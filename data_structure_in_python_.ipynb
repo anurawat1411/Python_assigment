{
  "nbformat": 4,
  "nbformat_minor": 0,
  "metadata": {
    "colab": {
      "provenance": []
    },
    "kernelspec": {
      "name": "python3",
      "display_name": "Python 3"
    },
    "language_info": {
      "name": "python"
    }
  },
  "cells": [
    {
      "cell_type": "code",
      "execution_count": null,
      "metadata": {
        "colab": {
          "base_uri": "https://localhost:8080/"
        },
        "id": "nPmXn3DeK7A-",
        "outputId": "2ed2a420-2c63-4d37-80da-61496a2ab732"
      },
      "outputs": [
        {
          "output_type": "stream",
          "name": "stdout",
          "text": [
            "10 20 30 40 50 60 70 "
          ]
        }
      ],
      "source": [
        "# repeat some task again and again\n",
        "# loop>>>\n",
        "list = [10,20,30,40,50,60,70]\n",
        "for num in list:\n",
        "  print(num, end=\" \")"
      ]
    },
    {
      "cell_type": "markdown",
      "source": [],
      "metadata": {
        "id": "0TbdCfPANKao"
      }
    },
    {
      "cell_type": "code",
      "source": [
        "len(list)"
      ],
      "metadata": {
        "colab": {
          "base_uri": "https://localhost:8080/"
        },
        "id": "aoio3lT-LW1y",
        "outputId": "11d7ca69-c45a-42c0-8a7c-2f37e7cbc99b"
      },
      "execution_count": null,
      "outputs": [
        {
          "output_type": "execute_result",
          "data": {
            "text/plain": [
              "7"
            ]
          },
          "metadata": {},
          "execution_count": 3
        }
      ]
    },
    {
      "cell_type": "markdown",
      "source": [
        "admin@techforallwithpriya.com"
      ],
      "metadata": {
        "id": "8sgQXJs_o40v"
      }
    },
    {
      "cell_type": "markdown",
      "source": [
        " with the index we can directly acces the element\n",
        "\n",
        " for loop>> You know in advance how many times you want to iterate (like over a list, a range of numbers, etc.)"
      ],
      "metadata": {
        "id": "_H5hjLZPQ7aU"
      }
    },
    {
      "cell_type": "code",
      "source": [
        "for i in range(len(list)):\n",
        "  print(list[i])"
      ],
      "metadata": {
        "colab": {
          "base_uri": "https://localhost:8080/"
        },
        "id": "GTF565mjNT_u",
        "outputId": "1e08e2df-552f-4abf-90bc-98ff721d101c"
      },
      "execution_count": null,
      "outputs": [
        {
          "output_type": "stream",
          "name": "stdout",
          "text": [
            "10\n",
            "20\n",
            "30\n",
            "40\n",
            "50\n",
            "60\n",
            "70\n"
          ]
        }
      ]
    },
    {
      "cell_type": "code",
      "source": [
        "for i in range(0 , len(list) , 2):\n",
        "  print(list[i])"
      ],
      "metadata": {
        "colab": {
          "base_uri": "https://localhost:8080/"
        },
        "id": "yPEmp1OqODti",
        "outputId": "7c49e2da-4a79-49ec-e21e-da1de6e178f1"
      },
      "execution_count": null,
      "outputs": [
        {
          "output_type": "stream",
          "name": "stdout",
          "text": [
            "10\n",
            "30\n",
            "50\n",
            "70\n"
          ]
        }
      ]
    },
    {
      "cell_type": "code",
      "source": [
        "for i in range(1,5):\n",
        "  print(list[i] , end=\" \")"
      ],
      "metadata": {
        "colab": {
          "base_uri": "https://localhost:8080/"
        },
        "id": "ghzzTbUsPDc5",
        "outputId": "bae5a55e-0136-47dc-8a45-60a944bb150c"
      },
      "execution_count": null,
      "outputs": [
        {
          "output_type": "stream",
          "name": "stdout",
          "text": [
            "20 30 40 50 "
          ]
        }
      ]
    },
    {
      "cell_type": "markdown",
      "source": [
        "while loop>>> it continues while the condition is true its more tuff for bingnerrs compare the for loop"
      ],
      "metadata": {
        "id": "gDSEBoKcRLa8"
      }
    },
    {
      "cell_type": "code",
      "source": [
        "num = 1\n",
        "\n",
        "while num < 5:\n",
        "  print(num)\n",
        "  num = num +1"
      ],
      "metadata": {
        "colab": {
          "base_uri": "https://localhost:8080/"
        },
        "id": "VYSE9A5gPexB",
        "outputId": "fd6dfdeb-fd6a-451d-dfc8-67f4aac1fff7"
      },
      "execution_count": null,
      "outputs": [
        {
          "output_type": "stream",
          "name": "stdout",
          "text": [
            "1\n",
            "2\n",
            "3\n",
            "4\n"
          ]
        }
      ]
    },
    {
      "cell_type": "code",
      "source": [
        "list = [10, 12 , 14, 15 , 17, 21, 22, 27, 29]\n",
        "# write a code to print a even element and odd in the output\n",
        "for num in list:\n",
        "  if num % 2 == 0:\n",
        "      print(f\"Even number: {num}\")\n",
        "  else:\n",
        "      print(f\"odd number:{num}\")\n"
      ],
      "metadata": {
        "colab": {
          "base_uri": "https://localhost:8080/"
        },
        "id": "3tsDCg-pSixk",
        "outputId": "603fc3c8-8f8c-480b-a090-d94378d5a9b4"
      },
      "execution_count": null,
      "outputs": [
        {
          "output_type": "stream",
          "name": "stdout",
          "text": [
            "Even number: 10\n",
            "Even number: 12\n",
            "Even number: 14\n",
            "odd number:15\n",
            "odd number:17\n",
            "odd number:21\n",
            "Even number: 22\n",
            "odd number:27\n",
            "odd number:29\n"
          ]
        }
      ]
    },
    {
      "cell_type": "code",
      "source": [
        "list"
      ],
      "metadata": {
        "colab": {
          "base_uri": "https://localhost:8080/"
        },
        "id": "uAOWsM8_UjOk",
        "outputId": "206a688f-8c14-4493-d0d5-49a89ccac895"
      },
      "execution_count": null,
      "outputs": [
        {
          "output_type": "execute_result",
          "data": {
            "text/plain": [
              "[10, 12, 14, 15, 17, 21, 22, 27, 29]"
            ]
          },
          "metadata": {},
          "execution_count": 22
        }
      ]
    },
    {
      "cell_type": "code",
      "source": [
        "list[-1]"
      ],
      "metadata": {
        "colab": {
          "base_uri": "https://localhost:8080/"
        },
        "id": "qHUGMhLaaIWE",
        "outputId": "d81d0404-ddc9-4ab6-d037-e2138340fe8a"
      },
      "execution_count": null,
      "outputs": [
        {
          "output_type": "execute_result",
          "data": {
            "text/plain": [
              "29"
            ]
          },
          "metadata": {},
          "execution_count": 23
        }
      ]
    },
    {
      "cell_type": "code",
      "source": [
        "# silcing operation>>>>\n",
        "\n",
        "list[::2]"
      ],
      "metadata": {
        "colab": {
          "base_uri": "https://localhost:8080/"
        },
        "id": "KQGWshOsaK5s",
        "outputId": "8ba3cb62-9c4a-4784-fed9-99329262555b"
      },
      "execution_count": null,
      "outputs": [
        {
          "output_type": "execute_result",
          "data": {
            "text/plain": [
              "[10, 14, 17, 22, 29]"
            ]
          },
          "metadata": {},
          "execution_count": 24
        }
      ]
    },
    {
      "cell_type": "code",
      "source": [
        "list[::-2]"
      ],
      "metadata": {
        "colab": {
          "base_uri": "https://localhost:8080/"
        },
        "id": "6_jagNBrad41",
        "outputId": "7041b4fd-ce7b-453c-fbf7-0e0a7e466cf8"
      },
      "execution_count": null,
      "outputs": [
        {
          "output_type": "execute_result",
          "data": {
            "text/plain": [
              "[29, 22, 17, 14, 10]"
            ]
          },
          "metadata": {},
          "execution_count": 25
        }
      ]
    },
    {
      "cell_type": "code",
      "source": [
        "list.append(78)\n",
        "print(list)"
      ],
      "metadata": {
        "colab": {
          "base_uri": "https://localhost:8080/"
        },
        "id": "9DYkFmP6dX1_",
        "outputId": "baddf4b8-c921-41d1-fdaa-14c58dbbd0bf"
      },
      "execution_count": null,
      "outputs": [
        {
          "output_type": "stream",
          "name": "stdout",
          "text": [
            "[10, 12, 14, 15, 17, 21, 22, 27, 29, 78, 78]\n"
          ]
        }
      ]
    },
    {
      "cell_type": "code",
      "source": [
        "list.insert(1 , 15)\n",
        "list"
      ],
      "metadata": {
        "colab": {
          "base_uri": "https://localhost:8080/"
        },
        "id": "xAalqSUOdzqu",
        "outputId": "5b58da4e-3e61-43b8-a92b-c7814eb2a967"
      },
      "execution_count": null,
      "outputs": [
        {
          "output_type": "execute_result",
          "data": {
            "text/plain": [
              "[10, 15, 12, 14, 15, 17, 21, 22, 27, 29, 78, 78]"
            ]
          },
          "metadata": {},
          "execution_count": 28
        }
      ]
    },
    {
      "cell_type": "code",
      "source": [
        "list.count(15)"
      ],
      "metadata": {
        "colab": {
          "base_uri": "https://localhost:8080/"
        },
        "id": "b-wyWrgWd8du",
        "outputId": "88e64ef4-b776-4981-f943-87d7fea76eaf"
      },
      "execution_count": null,
      "outputs": [
        {
          "output_type": "execute_result",
          "data": {
            "text/plain": [
              "2"
            ]
          },
          "metadata": {},
          "execution_count": 29
        }
      ]
    },
    {
      "cell_type": "code",
      "source": [
        "#TASK 1>>>  to explore all the methods related to the list data struture\n",
        "# TASK 2>>> WRITE a loop to find out the larhest number in the list\n",
        "list= [10, 20, 30, 40, 11, 13, 80, 100]\n",
        "output= 100\n"
      ],
      "metadata": {
        "id": "NBTCGzngcfrS"
      },
      "execution_count": null,
      "outputs": []
    },
    {
      "cell_type": "markdown",
      "source": [
        "TASK 1>>>  to explore all the methods related to the list data struture"
      ],
      "metadata": {
        "id": "Pfr28-JRJSkY"
      }
    },
    {
      "cell_type": "code",
      "source": [
        "list = [10, 12, 14, 16, 20, 40, 50, 100, 200 ]\n",
        "minimum = min(list)\n",
        "print(\"the number of the list is:\", minimum)"
      ],
      "metadata": {
        "colab": {
          "base_uri": "https://localhost:8080/"
        },
        "id": "y5VMedMYJU7l",
        "outputId": "bc4b202f-f5c4-4512-b619-1becff2b9d9c"
      },
      "execution_count": null,
      "outputs": [
        {
          "output_type": "stream",
          "name": "stdout",
          "text": [
            "the number of the list is: 10\n"
          ]
        }
      ]
    },
    {
      "cell_type": "code",
      "source": [
        "list = [10, 12, 14, 16, 20, 40, 50, 100, 200 ]\n",
        "maximum = max(list)\n",
        "print(\"the maximum number of the list is:\", maximum)"
      ],
      "metadata": {
        "colab": {
          "base_uri": "https://localhost:8080/"
        },
        "id": "m_Di04yOJvBB",
        "outputId": "24bd7e32-42d6-440c-a037-5fa6e290ec84"
      },
      "execution_count": null,
      "outputs": [
        {
          "output_type": "stream",
          "name": "stdout",
          "text": [
            "the maximum number of the list is: 200\n"
          ]
        }
      ]
    },
    {
      "cell_type": "code",
      "source": [
        "list.reverse()\n",
        "print(list)"
      ],
      "metadata": {
        "colab": {
          "base_uri": "https://localhost:8080/"
        },
        "id": "CUoTupWqMGQa",
        "outputId": "2be4d184-4e1f-4214-bcb7-ec06b6344e2c"
      },
      "execution_count": null,
      "outputs": [
        {
          "output_type": "stream",
          "name": "stdout",
          "text": [
            "[200, 100, 50, 40, 20, 16, 14, 12, 10]\n"
          ]
        }
      ]
    },
    {
      "cell_type": "code",
      "source": [
        "list = [10, 12, 14, 16, 20, 40, 50, 100, 200 ]\n",
        "list.remove(50)\n",
        "print(list)"
      ],
      "metadata": {
        "colab": {
          "base_uri": "https://localhost:8080/"
        },
        "id": "-wyS8NZXMx6e",
        "outputId": "7984c0fe-2782-4a30-fb36-e5e95f1fe430"
      },
      "execution_count": null,
      "outputs": [
        {
          "output_type": "stream",
          "name": "stdout",
          "text": [
            "[10, 12, 14, 16, 20, 40, 100, 200]\n"
          ]
        }
      ]
    },
    {
      "cell_type": "code",
      "source": [
        "list.clear()\n",
        "print(list)"
      ],
      "metadata": {
        "colab": {
          "base_uri": "https://localhost:8080/"
        },
        "id": "JY9aUQWMPL-b",
        "outputId": "eafe64b7-bf12-447b-e18d-92787859ce0f"
      },
      "execution_count": null,
      "outputs": [
        {
          "output_type": "stream",
          "name": "stdout",
          "text": [
            "[]\n"
          ]
        }
      ]
    },
    {
      "cell_type": "code",
      "source": [
        "list = [10, 12, 14, 16, 20, 40, 50, 100, 200 ]\n",
        "list.pop(3)\n",
        "print(list)"
      ],
      "metadata": {
        "colab": {
          "base_uri": "https://localhost:8080/"
        },
        "id": "vw4jJ_U0SCnw",
        "outputId": "08ac81df-59ec-483a-8744-9d14ba29d47b"
      },
      "execution_count": null,
      "outputs": [
        {
          "output_type": "stream",
          "name": "stdout",
          "text": [
            "[10, 12, 14, 20, 40, 50, 100, 200]\n"
          ]
        }
      ]
    },
    {
      "cell_type": "code",
      "source": [
        "fruits = [\"apple\", \"bnana\", \"orange\", \"grapes\"]\n",
        "fruits.pop()\n",
        "print(fruits)"
      ],
      "metadata": {
        "colab": {
          "base_uri": "https://localhost:8080/"
        },
        "id": "L9f9pZpFPiBk",
        "outputId": "e3249028-d70c-47ad-e73f-9d8122316eec"
      },
      "execution_count": null,
      "outputs": [
        {
          "output_type": "stream",
          "name": "stdout",
          "text": [
            "['apple', 'bnana', 'orange']\n"
          ]
        }
      ]
    },
    {
      "cell_type": "code",
      "source": [
        "list = [10, 12, 40, 50, 100, 200, 100, 100 ]\n",
        "list.count(100)\n"
      ],
      "metadata": {
        "colab": {
          "base_uri": "https://localhost:8080/"
        },
        "id": "SQMG6aEwRH0l",
        "outputId": "3fd54e45-269b-4c36-ed9d-85386add599f"
      },
      "execution_count": null,
      "outputs": [
        {
          "output_type": "execute_result",
          "data": {
            "text/plain": [
              "3"
            ]
          },
          "metadata": {},
          "execution_count": 48
        }
      ]
    },
    {
      "cell_type": "code",
      "source": [
        "# list.index(x[, start[, end]])\n",
        "'''\n",
        "x>>> the value you find\n",
        "start>>> the value you start serching\n",
        "end>>> where you stop the serching\n",
        "'''\n",
        "list = [1, 4, 6, 5, 8 ]\n",
        "list.index(6, 1, 9)"
      ],
      "metadata": {
        "colab": {
          "base_uri": "https://localhost:8080/"
        },
        "id": "2t3QzN_sSrF3",
        "outputId": "bb8255fc-e676-4073-ec6e-a8b212b2220f"
      },
      "execution_count": null,
      "outputs": [
        {
          "output_type": "execute_result",
          "data": {
            "text/plain": [
              "2"
            ]
          },
          "metadata": {},
          "execution_count": 51
        }
      ]
    },
    {
      "cell_type": "code",
      "source": [
        "list.copy()"
      ],
      "metadata": {
        "colab": {
          "base_uri": "https://localhost:8080/"
        },
        "id": "U0vdZ775UwMS",
        "outputId": "11092cce-a3e6-4ba0-c494-4a62c24cc89f"
      },
      "execution_count": null,
      "outputs": [
        {
          "output_type": "execute_result",
          "data": {
            "text/plain": [
              "[1, 4, 6, 5, 8]"
            ]
          },
          "metadata": {},
          "execution_count": 52
        }
      ]
    },
    {
      "cell_type": "code",
      "source": [
        "# TASK 2>>> WRITE a loop to find out the laghest number in the list\n",
        "list= [10, 20, 30, 40, 11, 13, 80, 100]\n",
        "maximum = max(list)\n",
        "print(\"the maximum number of the list:\", maximum)                                                    #  output= 100\n"
      ],
      "metadata": {
        "id": "LI6C0RIgVXxF",
        "colab": {
          "base_uri": "https://localhost:8080/"
        },
        "outputId": "caf5e2cd-c1ea-4da7-c6c6-901c71ae8a33"
      },
      "execution_count": null,
      "outputs": [
        {
          "output_type": "stream",
          "name": "stdout",
          "text": [
            "the maximum number of the list: 100\n"
          ]
        }
      ]
    },
    {
      "cell_type": "markdown",
      "source": [
        " given a number and cheak weather it is multiple of 2 or not\n"
      ],
      "metadata": {
        "id": "L4lEwR0ita97"
      }
    },
    {
      "cell_type": "code",
      "source": [
        "num = int(input(\"enter the number:\"))\n",
        "if num % 2 == 0:\n",
        "  print(\"the number is multiple of 2:\")\n",
        "else:\n",
        "  print(\"the number is not mutiple of 2:\")"
      ],
      "metadata": {
        "colab": {
          "base_uri": "https://localhost:8080/"
        },
        "id": "NYQ5Dptqtdf0",
        "outputId": "69447080-f00b-4eb0-e679-4d480ce7cd52"
      },
      "execution_count": null,
      "outputs": [
        {
          "output_type": "stream",
          "name": "stdout",
          "text": [
            "enter the number:12\n",
            "the number is multiple of 2:\n"
          ]
        }
      ]
    },
    {
      "cell_type": "code",
      "source": [
        "x = 10\n",
        "\n",
        "if x >= 10:\n",
        "  print(\"x is greater than 10: \")\n",
        "elif x == 10:\n",
        "  print(\"x is equal to 10: \")\n",
        "else:\n",
        "  print(\"x is not equal to 10: \")\n"
      ],
      "metadata": {
        "colab": {
          "base_uri": "https://localhost:8080/"
        },
        "id": "S6IYppu7vjar",
        "outputId": "85541b9c-ee33-4889-cec7-57a16971f53a"
      },
      "execution_count": null,
      "outputs": [
        {
          "output_type": "stream",
          "name": "stdout",
          "text": [
            "x is greater than 10: \n"
          ]
        }
      ]
    },
    {
      "cell_type": "code",
      "source": [
        "a = 5\n",
        "b = 1\n",
        "c = 3\n",
        "\n",
        "if a > b and a > c:\n",
        "  print(\"a is greater than b and c: \")\n",
        "elif b > a and b > c:\n",
        "  print(\"b is greater than a and c: \")\n",
        "elif c > a and c > b:\n",
        "  print(\"c is greater than a and b: \")\n",
        "\n",
        "else:\n",
        "  print(\"the condition is not satisfied: \")\n",
        "\n"
      ],
      "metadata": {
        "colab": {
          "base_uri": "https://localhost:8080/"
        },
        "id": "Y6hkHLlvylL1",
        "outputId": "b5c40b6b-d909-4dc8-bddc-2d686769fd58"
      },
      "execution_count": null,
      "outputs": [
        {
          "output_type": "stream",
          "name": "stdout",
          "text": [
            "a is greater than b and c: \n"
          ]
        }
      ]
    },
    {
      "cell_type": "code",
      "source": [
        "\n",
        "#  Python program to count the number of even and odd numbers from a series of numbers.\n",
        "#  Python program to display all numbers within a range except the prime numbers.\n",
        "#  Python program to get the Fibonacci series between 0 to 50.\n",
        "#  Python program to find the factorial of a given number.\n",
        "#  Python program that accepts a string and calculates the number of digits and letters.\n",
        "#  Write a Python program that iterates the integers from 1 to 25.\n",
        "#  Python program to check the validity of password input by users.\n",
        "#  Python program to convert the month name to a number of days."
      ],
      "metadata": {
        "id": "JDxnXP9w1rDm"
      },
      "execution_count": null,
      "outputs": []
    },
    {
      "cell_type": "code",
      "source": [
        "# Python program to print all the even numbers within the given range.\n",
        "\n",
        "lst2 = [2, 5, 6, 4, 8, 13]\n",
        "for num in lst2:\n",
        "\n",
        " if num % 2 == 0:\n",
        "  print(f\"even number: {num} \")\n"
      ],
      "metadata": {
        "colab": {
          "base_uri": "https://localhost:8080/"
        },
        "id": "Z4cJIMuc9KO7",
        "outputId": "5d5c19d8-737d-4afb-eea5-dd907ddbb367"
      },
      "execution_count": null,
      "outputs": [
        {
          "output_type": "stream",
          "name": "stdout",
          "text": [
            "even number: 2 \n",
            "even number: 6 \n",
            "even number: 4 \n",
            "even number: 8 \n"
          ]
        }
      ]
    },
    {
      "cell_type": "code",
      "source": [
        "# Python program to calculate the sum of all numbers from 1 to a given number.\n",
        "\n",
        "n = int(input(\"enter the number:\"))\n",
        "\n",
        "total = 0\n",
        "\n",
        "for i in range(1,n+1):\n",
        "    total += i\n",
        "\n",
        "print(f\"the sum of number from 1 to {n} is:\" , {total} )\n"
      ],
      "metadata": {
        "colab": {
          "base_uri": "https://localhost:8080/"
        },
        "id": "Qk0QwuQoAFlA",
        "outputId": "97bf6d1b-834d-426b-db69-ed54485dc295"
      },
      "execution_count": null,
      "outputs": [
        {
          "output_type": "stream",
          "name": "stdout",
          "text": [
            "enter the number:10\n",
            "the sum of number from 1 to 10 is: {55}\n"
          ]
        }
      ]
    },
    {
      "cell_type": "code",
      "source": [
        "# # Get input from the user\n",
        "start = int(input(\"Enter the starting number of the range: \"))\n",
        "end = int(input(\"Enter the ending number of the range: \"))\n",
        "\n",
        "# Initialize sum\n",
        "total = 0\n",
        "\n",
        "# Loop through the range and add only odd numbers\n",
        "for i in range(start, end + 1):\n",
        "    if i % 2 != 0:\n",
        "        total += i\n",
        "\n",
        "# Display the result\n",
        "print(f\"The sum of odd numbers from {start} to {end} is:{total}\" )\n",
        "\n"
      ],
      "metadata": {
        "colab": {
          "base_uri": "https://localhost:8080/"
        },
        "id": "4W5eLJO2HVOy",
        "outputId": "659154b1-a314-4711-ec3f-b4f71bfd1122"
      },
      "execution_count": null,
      "outputs": [
        {
          "output_type": "stream",
          "name": "stdout",
          "text": [
            "Enter the starting number of the range: 2\n",
            "Enter the ending number of the range: 5\n",
            "The sum of odd numbers from 2 to 5 is:8\n"
          ]
        }
      ]
    },
    {
      "cell_type": "code",
      "source": [
        "# Python program to print a multiplication table of a given number\n",
        "\n",
        "number = int(input(\"enter the mutiplication number of the table: \"))\n",
        "for i in range(1,11):\n",
        "    print(f\"\\nmutiplication table of {number} \")\n",
        "    result = number * i\n",
        "    print(f\"{number} * {i} = {result}\")\n",
        "\n",
        "\n"
      ],
      "metadata": {
        "id": "Jk1qX6QeM1u2",
        "colab": {
          "base_uri": "https://localhost:8080/"
        },
        "outputId": "33351f2c-5b56-47ae-c9fe-46d80914f8fd"
      },
      "execution_count": null,
      "outputs": [
        {
          "output_type": "stream",
          "name": "stdout",
          "text": [
            "enter the mutiplication number of the table: 2\n",
            "\n",
            "mutiplication table of 2 \n",
            "2 * 1 = 2\n",
            "\n",
            "mutiplication table of 2 \n",
            "2 * 2 = 4\n",
            "\n",
            "mutiplication table of 2 \n",
            "2 * 3 = 6\n",
            "\n",
            "mutiplication table of 2 \n",
            "2 * 4 = 8\n",
            "\n",
            "mutiplication table of 2 \n",
            "2 * 5 = 10\n",
            "\n",
            "mutiplication table of 2 \n",
            "2 * 6 = 12\n",
            "\n",
            "mutiplication table of 2 \n",
            "2 * 7 = 14\n",
            "\n",
            "mutiplication table of 2 \n",
            "2 * 8 = 16\n",
            "\n",
            "mutiplication table of 2 \n",
            "2 * 9 = 18\n",
            "\n",
            "mutiplication table of 2 \n",
            "2 * 10 = 20\n"
          ]
        }
      ]
    },
    {
      "cell_type": "code",
      "source": [
        "#  Python program to display numbers from a list using a for loop.\n",
        "\n",
        "list = [2,3,4,5,6,7]\n",
        "for num in list:\n",
        "  print(num, end=\" \")"
      ],
      "metadata": {
        "colab": {
          "base_uri": "https://localhost:8080/"
        },
        "id": "Tnk_lzqjX_-2",
        "outputId": "5413a5b5-ebd2-4f05-af1b-20a1c7a0c1ec"
      },
      "execution_count": null,
      "outputs": [
        {
          "output_type": "stream",
          "name": "stdout",
          "text": [
            "2 3 4 5 6 7 "
          ]
        }
      ]
    },
    {
      "cell_type": "code",
      "source": [
        "# Python program to count the total number of digits in a number\n",
        "\n",
        "num = input(\"Enter a number: \")\n",
        "digit_count = len(str(num))\n",
        "\n",
        "print(\"total number of digit:\", digit_count)\n"
      ],
      "metadata": {
        "id": "QR6HgVhBuFwP",
        "colab": {
          "base_uri": "https://localhost:8080/"
        },
        "outputId": "f526b561-d929-4efe-92df-e5d7f05bdb92"
      },
      "execution_count": null,
      "outputs": [
        {
          "output_type": "stream",
          "name": "stdout",
          "text": [
            "Enter a number: 4563\n",
            "total number of digit: 4\n"
          ]
        }
      ]
    },
    {
      "cell_type": "code",
      "source": [
        "# Python program to check if the given string is a palindrome.\n",
        "\n",
        "text = input(\"enter the string:\")\n",
        "\n",
        "reversed_text = text\n",
        "\n",
        "if text == reversed_text:\n",
        "  print(\"the string is palindrome:\")\n",
        "else:\n",
        "  print(\"the string is not palindrome\")"
      ],
      "metadata": {
        "colab": {
          "base_uri": "https://localhost:8080/"
        },
        "id": "KP9zFZiEB7OV",
        "outputId": "d9a6165c-f541-439e-89c5-519cb9a9feab"
      },
      "execution_count": null,
      "outputs": [
        {
          "output_type": "stream",
          "name": "stdout",
          "text": [
            "enter the string:level\n",
            "the string is palindrome:\n"
          ]
        }
      ]
    },
    {
      "cell_type": "code",
      "source": [
        "# Python program that accepts a word from the user and reverses it.\n",
        "\n",
        "text = \"Hello\"\n",
        "# text[::-1] this string start with end(-1 step) and go backward\n",
        "reversed_text = text[::-1]\n",
        "print(reversed_text)\n"
      ],
      "metadata": {
        "colab": {
          "base_uri": "https://localhost:8080/"
        },
        "id": "Ki5_NFPLPKJg",
        "outputId": "1f6d3b8b-865d-48b0-8dcd-028c00c18039"
      },
      "execution_count": null,
      "outputs": [
        {
          "output_type": "stream",
          "name": "stdout",
          "text": [
            "olleH\n"
          ]
        }
      ]
    },
    {
      "cell_type": "code",
      "source": [
        "# Python program to check if a given number is an Armstrong number\n",
        "\n",
        "num = int(input(\"enter the number:\"))\n",
        "\n",
        "# str(num) converts the number into a string, so we can loop through its digits.\n",
        "# len(num_str) counts how many digits are in the number\n",
        "num_str = str(num)\n",
        "num_digit = len(num_str)\n",
        "\n",
        "# initilaization\n",
        "total = 0\n",
        "\n",
        "# int(digit) converts the digit (which is a character) back to an integer.\n",
        "# int(digit) ** num_digits raises the digit to the power of num_digits.\n",
        "\n",
        "for digit in num_str:\n",
        "  total += int(digit) ** num_digit\n",
        "\n",
        "if total == num:\n",
        "  print(num , \"the number is armstrong\")\n",
        "else:\n",
        "  print(num , \"the number is not armstrong\")"
      ],
      "metadata": {
        "id": "897fHOvyTBB7",
        "colab": {
          "base_uri": "https://localhost:8080/"
        },
        "outputId": "d8a5e431-5b44-44f4-ccef-49c314bc2b3b"
      },
      "execution_count": 1,
      "outputs": [
        {
          "output_type": "stream",
          "name": "stdout",
          "text": [
            "enter the number:153\n",
            "153 the number is armstrong\n"
          ]
        }
      ]
    },
    {
      "cell_type": "code",
      "source": [
        "# Python program to count the number of even and odd numbers from a series of numbers.\n",
        "\n",
        "number = [2, 3, 4, 5, 6, 7, ]\n",
        "even_count = 0\n",
        "odd_count = 0\n",
        "for i in number:\n",
        "  if i % 2 == 0:\n",
        "    even_count += 1\n",
        "  else:\n",
        "    odd_count += 1\n",
        "\n",
        "\n",
        "print(\"count of even number\", even_count)\n",
        "print(\"count of odd number\", odd_count)"
      ],
      "metadata": {
        "colab": {
          "base_uri": "https://localhost:8080/"
        },
        "id": "vrIRuoZApi6s",
        "outputId": "eba9c2f7-712c-4d02-f4fc-eb401b4ab85c"
      },
      "execution_count": 4,
      "outputs": [
        {
          "output_type": "stream",
          "name": "stdout",
          "text": [
            "count of even number 3\n",
            "count of odd number 3\n"
          ]
        }
      ]
    },
    {
      "cell_type": "code",
      "source": [
        "\n",
        "# Print all characters in a string using a for loop.\n",
        "# Create a list of squares from 1 to 10 using a loop."
      ],
      "metadata": {
        "id": "HdPTSGv_7g7h"
      },
      "execution_count": null,
      "outputs": []
    },
    {
      "cell_type": "code",
      "source": [
        "#  Print numbers from 1 to 10 using a for loop.\n",
        "\n",
        "for i in range(1, 11):\n",
        "  print(i)"
      ],
      "metadata": {
        "colab": {
          "base_uri": "https://localhost:8080/"
        },
        "id": "ueSMa-jPAffS",
        "outputId": "3cb73c5c-4294-4be8-fcb7-24b97752ac84"
      },
      "execution_count": null,
      "outputs": [
        {
          "output_type": "stream",
          "name": "stdout",
          "text": [
            "1\n",
            "2\n",
            "3\n",
            "4\n",
            "5\n",
            "6\n",
            "7\n",
            "8\n",
            "9\n",
            "10\n"
          ]
        }
      ]
    },
    {
      "cell_type": "code",
      "source": [
        "# Print the square of numbers from 1 to 5.\n",
        "\n",
        "for i in range(1, 6):\n",
        "    print(\"Square of\", i, \"is\", i**2)\n",
        "\n"
      ],
      "metadata": {
        "colab": {
          "base_uri": "https://localhost:8080/"
        },
        "id": "NbCJTeDAAudV",
        "outputId": "fc934ae8-0ec3-4eb9-f048-0d3c92c3d3cb"
      },
      "execution_count": null,
      "outputs": [
        {
          "output_type": "stream",
          "name": "stdout",
          "text": [
            "Square of 1 is 1\n",
            "Square of 2 is 4\n",
            "Square of 3 is 9\n",
            "Square of 4 is 16\n",
            "Square of 5 is 25\n"
          ]
        }
      ]
    },
    {
      "cell_type": "code",
      "source": [
        "# Print all even numbers in a given list.\n",
        "\n",
        "list = [11, 12, 13, 14, 15, 16]\n",
        "for num in list:\n",
        "  if num % 2 == 0:\n",
        "    print(f\"even number:\", {num})"
      ],
      "metadata": {
        "colab": {
          "base_uri": "https://localhost:8080/"
        },
        "id": "YFDk9UABKRX_",
        "outputId": "3c2ef998-a11f-4a48-f590-1feaef836770"
      },
      "execution_count": null,
      "outputs": [
        {
          "output_type": "stream",
          "name": "stdout",
          "text": [
            "even number: {12}\n",
            "even number: {14}\n",
            "even number: {16}\n"
          ]
        }
      ]
    },
    {
      "cell_type": "code",
      "source": [
        "# Count how many positive numbers are in a list.\n",
        "\n",
        "number = [1, -2, 3, -4, -5]\n",
        "\n",
        "positive_count = 0\n",
        "\n",
        "for num in number:\n",
        "    if num > 0:\n",
        "         positive_count += 1\n",
        "\n",
        "print(\"total positive number:\", positive_count)\n",
        "\n"
      ],
      "metadata": {
        "colab": {
          "base_uri": "https://localhost:8080/"
        },
        "id": "F0uLth0oLGno",
        "outputId": "abc5077e-6684-44b7-b647-d41bcba487fe"
      },
      "execution_count": null,
      "outputs": [
        {
          "output_type": "stream",
          "name": "stdout",
          "text": [
            "total positive number: 2\n"
          ]
        }
      ]
    },
    {
      "cell_type": "code",
      "source": [
        "# Calculate the sum of a list of numbers.\n",
        "\n",
        "list = [10, 20, 30, 40]\n",
        "print(sum(list))"
      ],
      "metadata": {
        "colab": {
          "base_uri": "https://localhost:8080/"
        },
        "id": "bKNZKcX9OyN-",
        "outputId": "846a6c71-aca4-48c5-9225-b15ac92d5ccf"
      },
      "execution_count": null,
      "outputs": [
        {
          "output_type": "stream",
          "name": "stdout",
          "text": [
            "100\n"
          ]
        }
      ]
    },
    {
      "cell_type": "code",
      "source": [
        "# Print a right-angled triangle pattern:\n",
        "# *\n",
        "# **\n",
        "# ***\n",
        "# ****\n",
        "\n",
        "for row in range(4):\n",
        "  for j in range(row+1):\n",
        "\n",
        "    print(\"*\" , end=\"\")\n",
        "  print()\n",
        "\n",
        "\n"
      ],
      "metadata": {
        "colab": {
          "base_uri": "https://localhost:8080/"
        },
        "id": "EqEnCMIaPv8Y",
        "outputId": "d5f7310b-f1e7-4c30-b186-70faeafb680b"
      },
      "execution_count": null,
      "outputs": [
        {
          "output_type": "stream",
          "name": "stdout",
          "text": [
            "*\n",
            "**\n",
            "***\n",
            "****\n"
          ]
        }
      ]
    },
    {
      "cell_type": "code",
      "source": [
        "# Print the multiplication table of a number\n",
        "\n",
        "number = int(input(\"enter the number:\"))\n",
        "for i in range(1,11):\n",
        "  result = number* i\n",
        "  print(f\"{number} * {i} = {result}\")"
      ],
      "metadata": {
        "colab": {
          "base_uri": "https://localhost:8080/"
        },
        "id": "gsgUkbn_SPYt",
        "outputId": "4bb5e940-94a6-4f69-d764-01618bd433a8"
      },
      "execution_count": null,
      "outputs": [
        {
          "output_type": "stream",
          "name": "stdout",
          "text": [
            "enter the number:5\n",
            "5 * 1 = 5\n",
            "5 * 2 = 10\n",
            "5 * 3 = 15\n",
            "5 * 4 = 20\n",
            "5 * 5 = 25\n",
            "5 * 6 = 30\n",
            "5 * 7 = 35\n",
            "5 * 8 = 40\n",
            "5 * 9 = 45\n",
            "5 * 10 = 50\n"
          ]
        }
      ]
    },
    {
      "cell_type": "code",
      "source": [
        "#  Print all characters in a string using a for loop.\n",
        "\n",
        "text = input(\"enter the string:\")\n",
        "for char in text:\n",
        "  print(char)\n",
        "\n"
      ],
      "metadata": {
        "colab": {
          "base_uri": "https://localhost:8080/"
        },
        "id": "oFO1BPlzUUoJ",
        "outputId": "9b31bf82-a190-4706-a51d-a02600b98eab"
      },
      "execution_count": null,
      "outputs": [
        {
          "output_type": "stream",
          "name": "stdout",
          "text": [
            "enter the string:hello\n",
            "h\n",
            "e\n",
            "l\n",
            "l\n",
            "o\n"
          ]
        }
      ]
    },
    {
      "cell_type": "code",
      "source": [],
      "metadata": {
        "id": "Nv_9suxmc4f5"
      },
      "execution_count": null,
      "outputs": []
    }
  ]
}