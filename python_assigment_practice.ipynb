{
  "nbformat": 4,
  "nbformat_minor": 0,
  "metadata": {
    "colab": {
      "provenance": []
    },
    "kernelspec": {
      "name": "python3",
      "display_name": "Python 3"
    },
    "language_info": {
      "name": "python"
    }
  },
  "cells": [
    {
      "cell_type": "markdown",
      "source": [
        "# What is Python, and why is it popular\n",
        ">>> python is a high level interpreted programing language , which is known\n",
        " as simple and readable syntax. it was created by Guido van Rossum and released in 1991.\n",
        "\n",
        ">>>Reason, why is it popular-\n",
        "Easy to learn and use: Its syntax is close to English.\n",
        "Versatile: Can be used in web development, data science, machine learning etc\n",
        "Large community: Helpful forums(platform), tutorials, and job opportunities.\n",
        "\n",
        "# What is an interpreter in Python\n",
        ">>>An interpreter in Python is a program that reads and executes\n",
        "Python code line-by-line. The interpreter reads the code one line at a time and\n",
        "converts it into machine code (so your computer can understand and run it).\n",
        "\n",
        "# What are pre-defined keywords in Python\n",
        ">>>Pre-defined keywords (also called reserved words) are words that have\n",
        " special meaning in Python and cannot be used as variable names.\n",
        "\n",
        "example: break , continue, switch, import,\n",
        " for, while, if, else, elif, print() etc"
      ],
      "metadata": {
        "id": "dxzRqsF-SgRq"
      }
    },
    {
      "cell_type": "markdown",
      "source": [
        "# Can keywords be used as variable names\n",
        ">>> No, we can used keywords as a variable because these are pre-defined words\n",
        "that have a special meaning in python.\n",
        "\n",
        "# What is mutability in Python\n",
        ">>>Mutability means whether an object can be changed after it's created.\n",
        "Mutable objects: Can be modified after creation.\n",
        "Immutable objects: Cannot be changed once created.\n",
        "\n",
        "# Why are lists mutable, but tuples are immutable\n",
        ">>>Lists: Mutable because it Designed for dynamic data.\n",
        "Used when you need to change, add, or remove items.\n",
        "Common for looping, sorting, modifying, etc."
      ],
      "metadata": {
        "id": "d_0JiIrnWUjy"
      }
    },
    {
      "cell_type": "markdown",
      "source": [
        "# What is the difference between “==” and “is” operators in Python\n",
        ">>> Difference between == and is in Python\n",
        "Operator\tMeaning\t           Compares\n",
        "==\t      Equal to\t         Values of the variables\n",
        "is\t      Identity operator\t Memory location\n",
        "\n",
        "\n",
        "# What are logical operators in Python\n",
        "Logical operators are used to combine conditional statements\n",
        "AND      True if both are True\n",
        "OR       True if at least one is True\n",
        "NOT\t     Reverses the condition\n",
        "\n",
        "\n",
        "# What is type casting in Python\n",
        "Type casting means converting one data type to another\n",
        " (example- string to integer, float to int).\n",
        "int() convert to integer\n",
        "float() convert to float"
      ],
      "metadata": {
        "id": "EDFzVdm1ZbxT"
      }
    },
    {
      "cell_type": "markdown",
      "source": [
        "# What is the difference between implicit and explicit type casting\n",
        ">>>Type casting:\n",
        ">>Implicit\t    it's done by Python itself and it\tAutomatically converts data types\n",
        "                int + float → float\n",
        ">>Explicit\t    it's Done by us\twe manually convert one type to another\n",
        "                float(\"5\"), int(3.8)\n",
        "\n",
        "\n",
        "# What is the purpose of conditional statements in Pytho\n",
        "The purpose of conditional statements is to control the flow of a program\n",
        " by making decisions. They allow the program to execute different blocks of code based on specific conditions.\n",
        "\n",
        "For example:\n",
        "If a user is 18 or older, allow them to vote.\n",
        "\n",
        "\n",
        "# How does the elif statement work\n",
        "he elif statement stands for \"else if\". It is used after an if statement and before\n",
        "an else statement to check multiple conditions, one after the other\n",
        "\n"
      ],
      "metadata": {
        "id": "5uRs0s-fbxo9"
      }
    },
    {
      "cell_type": "markdown",
      "source": [
        "# What is the difference between for and while loops\n",
        "| Feature        | `for` loop                                        | `while` loop                                   |\n",
        "| -------------- | ------------------------------------------------- | ---------------------------------------------- |\n",
        "| **Use case**   | When you **know** how many times to loop          | When you **don’t know** how many times to loop |\n",
        "| **Structure**  | Iterates over a **sequence** (like a list, range) | Repeats as long as a **condition is True**     |\n",
        "| **Common use** | Loop through items, ranges, collections           | Keep running until a condition becomes False   |\n",
        "| **Control**    | Controlled by a **counter or iterable**           | Controlled by a **condition**                  |\n",
        "\n",
        "\n",
        "\n",
        "# Describe a scenario where a while loop is more suitable than a for loop.\n",
        ">>>Scenario: Keep asking the user for a positive number until they enter one.\n",
        "You don’t know how many times the user will give a negative number,\n",
        "so you need a while loop.\n",
        "\n",
        "\n"
      ],
      "metadata": {
        "id": "uAp8YGKvtiBU"
      }
    },
    {
      "cell_type": "markdown",
      "source": [
        "PRACTICAL QUESTION"
      ],
      "metadata": {
        "id": "OQ_egRjOvIbt"
      }
    },
    {
      "cell_type": "code",
      "source": [
        "# 1 Write a Python program to print \"Hello, World!y\n",
        "# 2 Write a Python program that displays your name and age8\n",
        "# 3 Write code to print all the pre-defined keywords in Python using the keyword library8"
      ],
      "metadata": {
        "id": "WE4Uugr5p97E"
      },
      "execution_count": null,
      "outputs": []
    },
    {
      "cell_type": "code",
      "source": [
        "print(\"Hello, World!y\")"
      ],
      "metadata": {
        "colab": {
          "base_uri": "https://localhost:8080/"
        },
        "id": "zAdsB1DJqiPD",
        "outputId": "72b32309-dbf9-4ab1-ad25-6dd087d2432d"
      },
      "execution_count": null,
      "outputs": [
        {
          "output_type": "stream",
          "name": "stdout",
          "text": [
            "Hello, World!y\n"
          ]
        }
      ]
    },
    {
      "cell_type": "code",
      "source": [
        "print(\"name = Anu\", \"age = 18\")"
      ],
      "metadata": {
        "colab": {
          "base_uri": "https://localhost:8080/"
        },
        "id": "FfBD1uw5qpDy",
        "outputId": "de4ab077-250f-4479-cb22-1183d75398a7"
      },
      "execution_count": null,
      "outputs": [
        {
          "output_type": "stream",
          "name": "stdout",
          "text": [
            "name = Anu age = 18\n"
          ]
        }
      ]
    },
    {
      "cell_type": "code",
      "source": [
        "import keyword\n",
        "\n",
        "keywords_list = keyword.kwlist\n",
        "\n",
        "print(\"\\nList of all python keyword:\")\n",
        "\n",
        "for kw in keywords_list:\n",
        "    print(kw)\n"
      ],
      "metadata": {
        "colab": {
          "base_uri": "https://localhost:8080/"
        },
        "id": "5Mmw4P6fruCw",
        "outputId": "243770e3-8dd0-4efc-ea5c-20003f5522ed"
      },
      "execution_count": null,
      "outputs": [
        {
          "output_type": "stream",
          "name": "stdout",
          "text": [
            "\n",
            "List of all python keyword:\n",
            "False\n",
            "None\n",
            "True\n",
            "and\n",
            "as\n",
            "assert\n",
            "async\n",
            "await\n",
            "break\n",
            "class\n",
            "continue\n",
            "def\n",
            "del\n",
            "elif\n",
            "else\n",
            "except\n",
            "finally\n",
            "for\n",
            "from\n",
            "global\n",
            "if\n",
            "import\n",
            "in\n",
            "is\n",
            "lambda\n",
            "nonlocal\n",
            "not\n",
            "or\n",
            "pass\n",
            "raise\n",
            "return\n",
            "try\n",
            "while\n",
            "with\n",
            "yield\n"
          ]
        }
      ]
    },
    {
      "cell_type": "code",
      "source": [
        "#  Write a program that checks if a given word is a Python keyword.\n",
        "#  Create a list and tuple in Python, and demonstrate how attempting to change an element works differently\n",
        "# for each."
      ],
      "metadata": {
        "id": "dzRi6Lg0uA_l"
      },
      "execution_count": null,
      "outputs": []
    },
    {
      "cell_type": "code",
      "source": [
        "import keyword\n",
        "word = input(\"enter the word that cheaks given word is python keyword:\")\n",
        "\n",
        "if keyword.iskeyword(word):\n",
        "\n",
        "  print(f\" '{word}',it is python keyword:\")\n",
        "else:\n",
        "  print(f\" '{word}',it is not python keyword:\")"
      ],
      "metadata": {
        "colab": {
          "base_uri": "https://localhost:8080/"
        },
        "id": "q8v8HbjxDnQ6",
        "outputId": "4f34c8ee-dcdf-44d0-cf5c-97862bd300a5"
      },
      "execution_count": null,
      "outputs": [
        {
          "output_type": "stream",
          "name": "stdout",
          "text": [
            "enter the word that cheaks given word is python keyword:break\n",
            " 'break',it is python keyword:\n"
          ]
        }
      ]
    },
    {
      "cell_type": "code",
      "source": [
        "# Create a list and tuple in Python, and demonstrate how attempting to change an element works differently\n",
        "# for each.\n",
        "\n",
        "my_list = [10, 20, 30]\n",
        "print(\"original list:\", my_list)\n",
        "\n",
        "my_list[1] = 200\n",
        "print(\"modified list:\", my_list)\n",
        "\n",
        "my_tuple = (11, 12, 13)\n",
        "print(\"original list:\", my_tuple)\n",
        "\n",
        "try:\n",
        "  my_tuple = 120\n",
        "except TypeError as e:\n",
        "    print(\"error when trying to modified a tuple e:\")\n"
      ],
      "metadata": {
        "colab": {
          "base_uri": "https://localhost:8080/"
        },
        "id": "d_ht-ZLoFJy6",
        "outputId": "ef6bee09-26de-46e9-a72e-dfb7a2640184"
      },
      "execution_count": null,
      "outputs": [
        {
          "output_type": "stream",
          "name": "stdout",
          "text": [
            "original list: [10, 20, 30]\n",
            "modified list: [10, 200, 30]\n",
            "original list: (11, 12, 13)\n"
          ]
        }
      ]
    },
    {
      "cell_type": "code",
      "source": [
        "# Write a function to demonstrate the behavior of mutable and immutable arguments.\n",
        "# Write a program that performs basic arithmetic operations on two user-input numbers."
      ],
      "metadata": {
        "id": "zSY0KE_9NIAX"
      },
      "execution_count": null,
      "outputs": []
    },
    {
      "cell_type": "code",
      "source": [
        "def modify_argument(num , num_list):\n",
        "\n",
        " num = 10\n",
        " print(\"inside function:\", num)\n",
        "\n",
        "# initialize\n",
        "x = 2\n",
        "num_list = [1,2,3]\n",
        "num_list.append(100)\n",
        "print(\"inside function:\", num_list)\n",
        "\n",
        "# before function call\n",
        "print(\"before function call:\")\n",
        "print(\"x:\", x)\n",
        "print(\"num_list:\", num_list)\n",
        "\n",
        "# modifiying argument\n",
        "modify_argument(x , num_list)\n",
        "\n",
        "\n",
        "# after function call\n",
        "print(\"before function call:\")\n",
        "print(\"x:\", x)\n",
        "print(\"num_list:\", num_list)"
      ],
      "metadata": {
        "colab": {
          "base_uri": "https://localhost:8080/"
        },
        "id": "FYyQM51wONFI",
        "outputId": "e8821bdd-94ca-4399-cb34-c8bcb2bac0dc"
      },
      "execution_count": null,
      "outputs": [
        {
          "output_type": "stream",
          "name": "stdout",
          "text": [
            "inside function: [1, 2, 3, 100]\n",
            "before function call:\n",
            "x: 2\n",
            "num_list: [1, 2, 3, 100]\n",
            "inside function: 12\n",
            "before function call:\n",
            "x: 2\n",
            "num_list: [1, 2, 3, 100]\n"
          ]
        }
      ]
    },
    {
      "cell_type": "code",
      "source": [
        "# Write a program that performs basic arithmetic operations on two user-input numbers.\n",
        "\n",
        "num1 = float(input(\"enter the first number:\"))\n",
        "num2 = float(input(\"enter the second number:\"))\n",
        "\n",
        "addition = num1 + num2\n",
        "subtraction = num1 - num2\n",
        "multiplication = num1 * num2\n",
        "\n",
        "# division handel safely\n",
        "\n",
        "if num2 != 0:\n",
        "  division = num1 / num2\n",
        "else:\n",
        "  division = \"cannot division by zero\"\n",
        "\n",
        "print(\"\\nresult:\")\n",
        "print(\"Addition:\", addition)\n",
        "print(\"Subtraction:\", subtraction)\n",
        "print(\"Multiplication:\", multiplication)\n",
        "print(\"Division:\", division)\n"
      ],
      "metadata": {
        "colab": {
          "base_uri": "https://localhost:8080/"
        },
        "id": "QTEsK6Z_SbhX",
        "outputId": "37138ea4-23cd-4bb2-f738-66f3574865ef"
      },
      "execution_count": null,
      "outputs": [
        {
          "output_type": "stream",
          "name": "stdout",
          "text": [
            "enter the first number:5\n",
            "enter the second number:10\n",
            "\n",
            "result:\n",
            "Addition: 15.0\n",
            "Subtraction: -5.0\n",
            "Multiplication: 50.0\n",
            "Division: 0.5\n"
          ]
        }
      ]
    },
    {
      "cell_type": "code",
      "source": [
        "# uses of logical operator\n",
        "\n",
        "x =  int(input(\"enter the first number:\"))\n",
        "y = int(input(\"enter the second number\"))\n",
        "\n",
        "print(\"\\nlogical operator AND (x > 0 and y > 0):\", x > 0 and y > 0)\n",
        "print(\"\\nlogical operator OR (x > 0 or y > 0):\", x > 0 and y > 0)\n",
        "print(\"\\nlogical operator NOT  not(y > 0):\", x > 0 and y > 0)\n"
      ],
      "metadata": {
        "colab": {
          "base_uri": "https://localhost:8080/"
        },
        "id": "YnxdF7c_bnuc",
        "outputId": "021ddd55-dcbd-4a5c-eb26-e62d9ce2b769"
      },
      "execution_count": null,
      "outputs": [
        {
          "output_type": "stream",
          "name": "stdout",
          "text": [
            "enter the first number:-1\n",
            "enter the second number3\n",
            "\n",
            "logical operator AND (x > 0 and y > 0): False\n",
            "\n",
            "logical operator OR (x > 0 or y > 0): False\n",
            "\n",
            "logical operator NOT  not(y > 0): False\n"
          ]
        }
      ]
    },
    {
      "cell_type": "code",
      "source": [
        "# Write a Python program to convert user input from string to integer, float, and boolean types.\n",
        "\n",
        "user_input = input(\"enter a value:\")\n",
        "\n",
        "# convert in integer\n",
        "try:\n",
        "  int_value = int(user_input)\n",
        "  print(\"conversion integer:\", int_value)\n",
        "except TypeError:\n",
        "  print(\"cannot convert in integer:\")\n",
        "\n",
        "# convert in float\n",
        "try:\n",
        "  float_value = float(user_input)\n",
        "  print(\"conversion float:\", float_value)\n",
        "except TypeError:\n",
        "  print(\"cannot convert in float:\")\n",
        "\n",
        "# convert in boolean\n",
        "try:\n",
        "  bool_value = bool(user_input)\n",
        "  print(\"conversion boolean:\", bool_value)\n",
        "except TypeError:\n",
        "  print(\"cannot convert in boolean:\")"
      ],
      "metadata": {
        "colab": {
          "base_uri": "https://localhost:8080/"
        },
        "id": "JDzYzoiniGSO",
        "outputId": "b8fba343-2b80-4a0f-d3a9-fc9c6b37ab06"
      },
      "execution_count": null,
      "outputs": [
        {
          "output_type": "stream",
          "name": "stdout",
          "text": [
            "enter a value:23\n",
            "conversion integer: 23\n",
            "conversion float: 23.0\n",
            "conversion boolean: True\n"
          ]
        }
      ]
    },
    {
      "cell_type": "code",
      "source": [
        "# Write code to demonstrate type casting with list elements.\n",
        "\n",
        "# Original list with string elements\n",
        "string_list = ['10', '20', '30', '40']\n",
        "\n",
        "print(\"Original list (strings):\", string_list)\n",
        "\n",
        "# Type casting to integers\n",
        "int_list = [int(item) for item in string_list]\n",
        "print(\"After casting to integers:\", int_list)\n",
        "\n",
        "# Type casting to floats\n",
        "float_list = [float(item) for item in string_list]\n",
        "print(\"After casting to floats:\", float_list)\n",
        "\n",
        "# Type casting integers to strings\n",
        "back_to_string = [str(item) for item in int_list]\n",
        "print(\"After casting integers back to strings:\", back_to_string)\n"
      ],
      "metadata": {
        "id": "seGesHPYndVp",
        "colab": {
          "base_uri": "https://localhost:8080/"
        },
        "outputId": "fc3c2153-a6ba-401c-d691-fd9dc980b135"
      },
      "execution_count": 1,
      "outputs": [
        {
          "output_type": "stream",
          "name": "stdout",
          "text": [
            "Original list (strings): ['10', '20', '30', '40']\n",
            "After casting to integers: [10, 20, 30, 40]\n",
            "After casting to floats: [10.0, 20.0, 30.0, 40.0]\n",
            "After casting integers back to strings: ['10', '20', '30', '40']\n"
          ]
        }
      ]
    },
    {
      "cell_type": "code",
      "source": [
        "# Write a program that checks if a number is positive, negative, or zero.\n",
        "\n",
        "num = int(input(\"enter the number:\"))\n",
        "if num > 0:\n",
        "  print(\"number is positive:\")\n",
        "elif num < 0:\n",
        "  print(\"number is negative:\")\n",
        "else:\n",
        "  print(\"number is zero:\")\n"
      ],
      "metadata": {
        "colab": {
          "base_uri": "https://localhost:8080/"
        },
        "id": "Eqh5ZCvVbOu_",
        "outputId": "8a1d4b2d-0f03-4e6b-a96e-04ed02f4761d"
      },
      "execution_count": null,
      "outputs": [
        {
          "output_type": "stream",
          "name": "stdout",
          "text": [
            "enter the number:1\n",
            "number is positive:\n"
          ]
        }
      ]
    },
    {
      "cell_type": "code",
      "source": [
        "# Write a for loop to print numbers from 1 to 10.\n",
        "\n",
        "for i in range(1 , 11):\n",
        " print(i)"
      ],
      "metadata": {
        "colab": {
          "base_uri": "https://localhost:8080/"
        },
        "id": "irL2dUgidB08",
        "outputId": "ac6719e5-1c88-4068-e776-d09f7eaa4d05"
      },
      "execution_count": null,
      "outputs": [
        {
          "output_type": "stream",
          "name": "stdout",
          "text": [
            "1\n",
            "2\n",
            "3\n",
            "4\n",
            "5\n",
            "6\n",
            "7\n",
            "8\n",
            "9\n",
            "10\n"
          ]
        }
      ]
    },
    {
      "cell_type": "code",
      "source": [
        "# Write a Python program to find the sum of all even numbers between 1 and 50.\n",
        "\n",
        "sum_even = 0\n",
        "for i in range(0 , 51):\n",
        "  if i % 2 == 0:\n",
        "    sum_even += 1\n",
        "print(\" sum of all the even number:\", sum_even)"
      ],
      "metadata": {
        "colab": {
          "base_uri": "https://localhost:8080/"
        },
        "id": "J8ID4mO3mpMs",
        "outputId": "2b7bd0ca-185c-4f0d-b31c-5f61653aa6fe"
      },
      "execution_count": 3,
      "outputs": [
        {
          "output_type": "stream",
          "name": "stdout",
          "text": [
            " sum of all the even number: 26\n"
          ]
        }
      ]
    },
    {
      "cell_type": "code",
      "source": [
        "# Write a program to reverse a string using a while loop\n",
        "text = \"hello\"\n",
        "\n",
        "# Empty string to store the reversed version\n",
        "reversed_text = text[::-1]\n",
        "print(\"Reversed string is:\", reversed_text)\n"
      ],
      "metadata": {
        "colab": {
          "base_uri": "https://localhost:8080/"
        },
        "id": "ASG36f_QECrM",
        "outputId": "8ee9a47c-6d82-40ef-92bf-c1e68ddff4a2"
      },
      "execution_count": 15,
      "outputs": [
        {
          "output_type": "stream",
          "name": "stdout",
          "text": [
            "Reversed string is: olleh\n"
          ]
        }
      ]
    },
    {
      "cell_type": "code",
      "source": [
        "#  Write a Python program to calculate the factorial of a number provided by the user using a while loop.\n",
        "\n",
        "num = int(input(\"Enter a number: \"))\n",
        "\n",
        "# Initialize variables\n",
        "factorial = 1\n",
        "i = 1\n",
        "\n",
        "# Check if number is negative\n",
        "if num < 0:\n",
        "    print(\"Factorial is not defined for negative numbers.\")\n",
        "else:\n",
        "    while i <= num:\n",
        "        factorial *= i\n",
        "        i += 1\n",
        "\n",
        "    print(f\"The factorial of {num} is {factorial}\")\n"
      ],
      "metadata": {
        "id": "E5zruLaeH8Ly"
      },
      "execution_count": null,
      "outputs": []
    }
  ]
}