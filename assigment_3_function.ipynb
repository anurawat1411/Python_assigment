{
  "nbformat": 4,
  "nbformat_minor": 0,
  "metadata": {
    "colab": {
      "provenance": []
    },
    "kernelspec": {
      "name": "python3",
      "display_name": "Python 3"
    },
    "language_info": {
      "name": "python"
    }
  },
  "cells": [
    {
      "cell_type": "markdown",
      "source": [
        "# Theory Question"
      ],
      "metadata": {
        "id": "if3iX1vus2wr"
      }
    },
    {
      "cell_type": "markdown",
      "source": [
        "## What is the difference between a function and a method in Python?"
      ],
      "metadata": {
        "id": "nz4s-w-WtMLk"
      }
    },
    {
      "cell_type": "markdown",
      "source": [
        ">Function\n",
        "\n",
        "A function is a block of reusable code that performs a specific task. You define it using the def keyword or lambda, and it does not belong to any object.  \n",
        "\n",
        "\n",
        "example:\n",
        "\n",
        "def greet(name):\n",
        "\n",
        "    return f\"Hello, {name}!\"\n",
        "\n",
        "greet(\"anu\")          \n",
        "output : Hello, anu!\n",
        "\n",
        "> Method\n",
        "\n",
        "A method is a function that is associated with an object. More specifically, it is defined inside a class, and it acts on instances of that class.\n",
        "\n",
        "example:\n",
        "\n",
        "class Person:\n",
        "\n",
        "    def greet(self):\n",
        "        return \"Hello!\"\n",
        "\n",
        "p = Person()\n",
        "\n",
        "p.greet()        "
      ],
      "metadata": {
        "id": "fUqvJw7ttQNl"
      }
    },
    {
      "cell_type": "markdown",
      "source": [
        "## **Explain the concept of function arguments and parameters in Python.**"
      ],
      "metadata": {
        "id": "RwU9NtpKYWSC"
      }
    },
    {
      "cell_type": "markdown",
      "source": [
        ">>function perameter\n",
        "\n",
        "Parameters are named variables listed in the function definition.They define what inputs the function expects.\n",
        "They do not have values until the function is called.\n",
        "\n",
        "example:\n",
        "def greet(name):        # 'name' is a parameter\n",
        "\n",
        "    print(\"Hello\", name)\n",
        "\n",
        ">Arguments\n",
        "\n",
        "Arguments are the actual values you pass into the function when calling it.They replace parameters during execution.    \n",
        "\n",
        "example:\n",
        "\n",
        "greet(\"Alice\")  # 'Alice' is an argument\n",
        "\n",
        "\n",
        "Parameter = the label on a mailbox\n",
        "\n",
        "Argument = the actual letter you put inside"
      ],
      "metadata": {
        "id": "i6TGipu1YlBa"
      }
    },
    {
      "cell_type": "markdown",
      "source": [],
      "metadata": {
        "id": "e3AAFmxvbnRD"
      }
    },
    {
      "cell_type": "markdown",
      "source": [
        "## **What are the different ways to define and call a function in Python?**"
      ],
      "metadata": {
        "id": "R1a2vomvcCe4"
      }
    },
    {
      "cell_type": "markdown",
      "source": [
        ">>Defining a Function in Python\n",
        "\n",
        "The two main ways to define a function are:\n",
        "\n",
        "1. Using def (Standard Way)\n",
        "\n",
        "Use the def keyword. it Can include parameters and May return a value\n",
        "\n",
        "example:\n",
        "\n",
        "def greet(name):\n",
        "\n",
        "    return f\"Hello, {name}!\"\n",
        "\n",
        "2. Using lambda (Anonymous Functions)\n",
        "\n",
        "Quick, one-line functions.No return or function name (though you can assign one).Best for simple operations.\n",
        "\n",
        "example:\n",
        "\n",
        "square = lambda x: x * x\n",
        "\n",
        "\n",
        ">>Calling Functions in Python\n",
        "\n",
        "The different  ways to calling a function are:\n",
        "\n",
        "1. Positonal arguments\n",
        "2. keywords arguments\n",
        "3. Default arguments\n",
        "4. Variable-Length Arguments"
      ],
      "metadata": {
        "id": "PJ49RrebcNyp"
      }
    },
    {
      "cell_type": "markdown",
      "source": [
        "## **What is the purpose of the `return` statement in a Python function?**"
      ],
      "metadata": {
        "id": "9rtxC1t-m-VO"
      }
    },
    {
      "cell_type": "markdown",
      "source": [
        ">>Purpose of the return Statement in a Python Function:\n",
        "\n",
        "The return statement in Python ends the execution of a function and sends a value back to the caller (the place where the function was called). It is used to return results from the function to be used later in the program.\n",
        "\n",
        ">>Why Use return?\n",
        "\n",
        "To send output from a function.\n",
        "\n",
        "To terminate the function early (if needed).\n",
        "\n",
        "To pass data to another part of the program.\n",
        "\n",
        "syntax:\n",
        "\n",
        "def function_name():\n",
        "\n",
        "    return value\n",
        "\n",
        "example:\n",
        "\n",
        "def add(a, b):\n",
        "\n",
        "    return a + b\n",
        "\n",
        "result = add(3, 5)\n",
        "\n",
        "print(result)"
      ],
      "metadata": {
        "id": "ANmvKMw6nGWD"
      }
    },
    {
      "cell_type": "markdown",
      "source": [],
      "metadata": {
        "id": "QXw67DabpefI"
      }
    },
    {
      "cell_type": "markdown",
      "source": [
        "## **What are iterators in Python and how do they differ from iterables?**"
      ],
      "metadata": {
        "id": "X5BMV1snprbh"
      }
    },
    {
      "cell_type": "markdown",
      "source": [
        ">>What is an Iterable?\n",
        "\n",
        "An iterable is any Python object that can return its members one at a time, allowing it to be looped over.\n",
        "\n",
        ">Common Iterable Types:\n",
        "\n",
        "Lists ([1, 2, 3])\n",
        "\n",
        "Tuples ((4, 5, 6))\n",
        "\n",
        "Strings (\"hello\")\n",
        "\n",
        "Dictionaries, Sets, etc.\n",
        "\n",
        "> Key Feature:\n",
        "\n",
        "An iterable implements the __iter__() method.\n",
        "\n",
        "\n",
        ">>What is an Iterator?\n",
        "\n",
        "An iterator is an object that keeps track of where it is during iteration and returns the next item using the next() function.\n",
        "\n",
        ">Key Features:\n",
        "Implements two methods:\n",
        "\n",
        "__iter__() — returns the iterator object itself.\n",
        "\n",
        "__next__() — returns the next item, and raises StopIteration when done.\n",
        "\n",
        "example:\n",
        "#This is an iterable\n",
        "nums = [1, 2, 3]\n",
        "\n",
        "# Get an iterator from the iterable\n",
        "it = iter(nums)\n",
        "\n",
        "print(next(it))  # 1\n",
        "\n",
        "print(next(it))  # 2\n",
        "\n",
        "print(next(it))  # 3\n",
        "# next(it) now will raise StopIteration\n"
      ],
      "metadata": {
        "id": "jsM5QN2Up78n"
      }
    },
    {
      "cell_type": "markdown",
      "source": [
        "# Explain the concept of generators in Python and how they are defined.\n",
        "\n"
      ],
      "metadata": {
        "id": "J-_SgBoIrkMg"
      }
    },
    {
      "cell_type": "markdown",
      "source": [
        ">>What is a Generator in Python?\n",
        "\n",
        "A generator is a special type of iterator that allows you to iterate over data lazily—one item at a time, only when needed—using less memory than lists.\n",
        "\n",
        ">>key Features of Generators:\n",
        "\n",
        "Use the yield keyword instead of return.\n",
        "\n",
        "Automatically save their state between calls.\n",
        "\n",
        "Are useful for large data processing or infinite\n",
        "sequences.\n",
        "\n",
        ">A generator is defined like a regular function, but it uses yield instead of return.\n",
        "\n",
        "def count_up_to(n):\n",
        "\n",
        "    i = 1\n",
        "    while i <= n:\n",
        "        yield i\n",
        "        i += 1\n",
        "\n",
        "When this function is called, it does not run immediately. Instead, it returns a generator object:\n",
        "\n",
        "gen = count_up_to(3)\n",
        "\n",
        "print(next(gen))  # 1\n",
        "\n",
        "print(next(gen))  # 2\n",
        "\n",
        "print(next(gen))  # 3\n",
        "# Next call will raise StopIteration\n",
        "\n",
        "\n"
      ],
      "metadata": {
        "id": "B0WoQCbaso5s"
      }
    },
    {
      "cell_type": "markdown",
      "source": [
        "## **What are the advantages of using generators over regular functions?**\n",
        "\n"
      ],
      "metadata": {
        "id": "cn8yw-hhvkK3"
      }
    },
    {
      "cell_type": "markdown",
      "source": [
        ">>Advantages of Generators over Regular Functions:\n",
        "\n",
        ">Memory Efficiency\n",
        "\n",
        "Generators don’t store the entire output in memory.\n",
        "Useful when working with large datasets or infinite sequences.\n",
        "\n",
        ">Faster Startup Time\n",
        "\n",
        "Generators start executing immediately and return the first item without waiting for the whole result to be calculated.\n",
        "\n",
        ">Lazy Evaluation\n",
        "\n",
        "Items are generated one by one, only when requested via next() or a for loop.\n",
        "Ideal for streaming data or reading files line by line.\n",
        "\n",
        ">State Saving Automatically\n",
        "\n",
        "Every time yield is called, the generator pauses, saving its internal state. When resumed, it continues from where it left off—no need for manual state management like in regular functions.\n",
        "\n",
        ">Cleaner Code for Iteration\n",
        "\n",
        "Instead of writing a class with __iter__() and __next__(), you can use a generator function in a few lines.\n",
        "\n",
        "\n",
        "\n"
      ],
      "metadata": {
        "id": "IWKbZSjwvg6e"
      }
    },
    {
      "cell_type": "markdown",
      "source": [
        "## **What is a lambda function in Python and when is it typically used?**\n",
        "\n"
      ],
      "metadata": {
        "id": "UhaV5VM8w-Bd"
      }
    },
    {
      "cell_type": "markdown",
      "source": [
        ">What is a Lambda Function in Python?\n",
        "\n",
        "A lambda function is a small, anonymous function defined using the keyword lambda instead of def.\n",
        "\n",
        "example:\n",
        "\n",
        "lambda arguments: expression\n",
        "\n",
        ">lambda is the keyword.\n",
        "\n",
        "It can have any number of arguments, but only one expression.\n",
        "The result of the expression is automatically returned.\n",
        "\n",
        ">When is a Lambda Function Used?\n",
        "\n",
        "Lambda functions are used when you need a simple function for a short period of time, especially:\n",
        "\n",
        ">>With Built-in Functions:\n",
        "\n",
        "Like map(), filter(), and sorted().\n",
        "\n",
        "Example with map():\n",
        "\n",
        "nums = [1, 2, 3, 4]\n",
        "\n",
        "squares = list(map(lambda x: x ** 2, nums))\n",
        "\n",
        "print(squares)\n",
        "\n",
        ">>As a Short One-Liner Function:\n",
        "\n",
        "When a full def block is unnecessary or overkill\n",
        "\n",
        "multiply = lambda a, b: a * b\n",
        "\n",
        "print(multiply(3, 4))  # Output: 12\n",
        "\n",
        "\n",
        "\n",
        "\n"
      ],
      "metadata": {
        "id": "15CPJHRnxPso"
      }
    },
    {
      "cell_type": "markdown",
      "source": [
        "# Explain the purpose and usage of the `map()` function in Python."
      ],
      "metadata": {
        "id": "m76Ip0Ys00ee"
      }
    },
    {
      "cell_type": "markdown",
      "source": [
        ">>What is the map() Function?\n",
        "\n",
        "The map() function is a built-in function in Python that allows you to apply a function to every item in an iterable (like a list, tuple, etc.), and returns a new map object (which is an iterator).\n",
        "\n",
        ">>Purpose of map():\n",
        "\n",
        "To transform or modify all elements in a collection without using a loop.\n",
        "\n",
        "It's useful when you want to apply the same function to each item in a sequence (e.g., squaring every number in a list).\n",
        "Syntax:\n",
        "\n",
        "map(function, iterable)\n",
        "\n",
        ">Using map() with a Defined Function\n",
        "\n",
        "def square(n):\n",
        "\n",
        "    return n * n\n",
        "nums = [1, 2, 3, 4]\n",
        "\n",
        "squared = map(square, nums)\n",
        "\n",
        "print(list(squared))  # Output: [1, 4, 9, 16]\n"
      ],
      "metadata": {
        "id": "wmf27H-z0upU"
      }
    },
    {
      "cell_type": "markdown",
      "source": [
        "# **What is the difference between `map()`, `reduce()`, and `filter()` functions in Python?**"
      ],
      "metadata": {
        "id": "b_-VNtfW4Fcr"
      }
    },
    {
      "cell_type": "markdown",
      "source": [
        ">>Difference between map(), filter(), and reduce() function\n",
        "\n",
        "1. map() – Transform Items\n",
        "\n",
        "Purpose:\n",
        "Applies a function to each item in an iterable and returns a new iterable with transformed values.\n",
        "\n",
        "2. filter() – Select Items\n",
        "\n",
        "Purpose:\n",
        "Applies a function that returns True or False to each item in an iterable, and filters out the items that don’t satisfy the condition.\n",
        "\n",
        "3. reduce() – Combine Items into One Value\n",
        "\n",
        "Note: reduce() must be imported from functools in Python\n",
        "\n",
        "Purpose:\n",
        "Applies a function to the first two items, then uses the result with the next item, and so on, reducing the iterable to a single final value.\n",
        "\n",
        "| Feature       | `map()`                          | `filter()`                                 | `reduce()`                              |\n",
        "| ------------- | -------------------------------- | ------------------------------------------ | --------------------------------------- |\n",
        "| Purpose       | Transforms each item             | Filters items based on a condition         | Combines all items into a single result |\n",
        "| Returns       | Map object (iterator)            | Filter object (iterator)                   | Single value                            |\n",
        "| Function Type | Takes one argument               | Takes one argument (returns `True/False`)  | Takes two arguments                     |\n",
        "| Output Length | Same as input                    | Less than or equal to input                | Always one result                       |\n",
        "| Common Use    | Changing values (e.g., squaring) | Selecting values (e.g., only even numbers) | Aggregating (e.g., sum, product)        |\n"
      ],
      "metadata": {
        "id": "dXkZYOrh26GI"
      }
    },
    {
      "cell_type": "markdown",
      "source": [
        "# Using pen & Paper write the internal mechanism for sum operation using  reduce function on this given\n",
        "list:[47,11,42,13]"
      ],
      "metadata": {
        "id": "sZio92WH4ZF2"
      }
    },
    {
      "cell_type": "markdown",
      "source": [
        "# Practical question"
      ],
      "metadata": {
        "id": "5fY7qrPjUqHt"
      }
    },
    {
      "cell_type": "markdown",
      "source": [
        "# Write a Python function that takes a list of numbers as input and returns the sum of all even numbers in the list."
      ],
      "metadata": {
        "id": "b8KP5h2cUwN9"
      }
    },
    {
      "cell_type": "code",
      "source": [
        "def sum_of_even_number(number):\n",
        "  total = 0\n",
        "  for n in number:\n",
        "    if n%2 == 0:\n",
        "      total = total + n\n",
        "  return total\n",
        "\n",
        "\n",
        "sum_of_even_number([1, 2, 3, 4])"
      ],
      "metadata": {
        "colab": {
          "base_uri": "https://localhost:8080/"
        },
        "id": "RNJT9WMR5Pg8",
        "outputId": "73f0a777-e565-4277-be7b-44305551ba8b"
      },
      "execution_count": null,
      "outputs": [
        {
          "output_type": "execute_result",
          "data": {
            "text/plain": [
              "6"
            ]
          },
          "metadata": {},
          "execution_count": 16
        }
      ]
    },
    {
      "cell_type": "markdown",
      "source": [
        "## **Create a Python function that accepts a string and returns the reverse of that string.**"
      ],
      "metadata": {
        "id": "nkSDZiXsnlJ-"
      }
    },
    {
      "cell_type": "code",
      "source": [
        "def reverse_string(n):\n",
        "    return n[::-1]\n",
        "\n",
        "\n",
        "reverse_string(\"python\")\n"
      ],
      "metadata": {
        "colab": {
          "base_uri": "https://localhost:8080/",
          "height": 36
        },
        "id": "N6mpOqrDa55I",
        "outputId": "19aa1991-b64a-4f97-8725-c161fe5b300f"
      },
      "execution_count": null,
      "outputs": [
        {
          "output_type": "execute_result",
          "data": {
            "text/plain": [
              "'nohtyp'"
            ],
            "application/vnd.google.colaboratory.intrinsic+json": {
              "type": "string"
            }
          },
          "metadata": {},
          "execution_count": 24
        }
      ]
    },
    {
      "cell_type": "markdown",
      "source": [
        "## Implement a Python function that takes a list of integers and returns a new list containing the squares of each number."
      ],
      "metadata": {
        "id": "YmBcO_X9tjIL"
      }
    },
    {
      "cell_type": "code",
      "source": [
        "def square_of_list(number):\n",
        "  l = []\n",
        "  for n in number:\n",
        "    l.append(n*n)\n",
        "  return l\n",
        "\n",
        "square_of_list([1, 2, 3, 4])"
      ],
      "metadata": {
        "colab": {
          "base_uri": "https://localhost:8080/"
        },
        "id": "EvMMrgLmo1YM",
        "outputId": "01106f84-2d36-4b2d-926c-0deb7a9f7efb"
      },
      "execution_count": null,
      "outputs": [
        {
          "output_type": "execute_result",
          "data": {
            "text/plain": [
              "[1, 4, 9, 16]"
            ]
          },
          "metadata": {},
          "execution_count": 30
        }
      ]
    },
    {
      "cell_type": "markdown",
      "source": [
        "### **Write a Python function that checks if a given number is prime or not from 1 to 200.**"
      ],
      "metadata": {
        "id": "p6KH5kLByCcM"
      }
    },
    {
      "cell_type": "code",
      "source": [
        "def is_prime(number):\n",
        "    if number <= 1:\n",
        "       return False\n",
        "    else:\n",
        "      for i in range(2 , 201):\n",
        "       if number % i == 0:\n",
        "        return False           ####\n",
        "\n",
        "       return True\n",
        "\n",
        "print(is_prime(34))\n",
        "print(is_prime(53))\n",
        "print(is_prime(7))\n"
      ],
      "metadata": {
        "colab": {
          "base_uri": "https://localhost:8080/"
        },
        "id": "El-jgqS3vJ9F",
        "outputId": "4c4ca593-2862-4df0-efb2-46a351fbf743"
      },
      "execution_count": null,
      "outputs": [
        {
          "output_type": "stream",
          "name": "stdout",
          "text": [
            "False\n",
            "True\n",
            "True\n"
          ]
        }
      ]
    },
    {
      "cell_type": "markdown",
      "source": [
        "# Create an iterator class in Python that generates the Fibonacci sequence up to a specified number of terms.\n",
        "\n"
      ],
      "metadata": {
        "id": "sitILoScq_EB"
      }
    },
    {
      "cell_type": "code",
      "source": [
        "class FibonacciIterator:\n",
        "    def __init__(self, max_terms):\n",
        "        self.max_terms = max_terms\n",
        "        self.count = 0\n",
        "        self.a = 0\n",
        "        self.b = 1\n",
        "\n",
        "    def __iter__(self):\n",
        "        return self\n",
        "\n",
        "    def __next__(self):\n",
        "        if self.count >= self.max_terms:\n",
        "            raise StopIteration\n",
        "        if self.count == 0:\n",
        "            self.count += 1\n",
        "            return self.a\n",
        "        elif self.count == 1:\n",
        "            self.count += 1\n",
        "            return self.b\n",
        "        else:\n",
        "            self.a, self.b = self.b, self.a + self.b\n",
        "            self.count += 1\n",
        "            return self.b\n",
        "\n",
        "# Example usage:\n",
        "fib = FibonacciIterator(10)  # Generate first 10 Fibonacci numbers\n",
        "for num in fib:\n",
        "    print(num)\n"
      ],
      "metadata": {
        "id": "iefXROb_0ld6",
        "colab": {
          "base_uri": "https://localhost:8080/"
        },
        "outputId": "7a461d63-311d-4635-f2a3-cd076ca8864f"
      },
      "execution_count": null,
      "outputs": [
        {
          "output_type": "stream",
          "name": "stdout",
          "text": [
            "0\n",
            "1\n",
            "1\n",
            "2\n",
            "3\n",
            "5\n",
            "8\n",
            "13\n",
            "21\n",
            "34\n"
          ]
        }
      ]
    },
    {
      "cell_type": "markdown",
      "source": [
        "# **Write a generator function in Python that yields the powers of 2 up to a given exponent.**"
      ],
      "metadata": {
        "id": "YW56WvTcuYwn"
      }
    },
    {
      "cell_type": "code",
      "source": [
        "def power_of_two(n):\n",
        "  for i in range(n + 1):\n",
        "    yield 2 ** i\n",
        "\n",
        "power = power_of_two(4)\n",
        "print(list(power))"
      ],
      "metadata": {
        "colab": {
          "base_uri": "https://localhost:8080/"
        },
        "id": "ScmNt8jasU_W",
        "outputId": "b93511a5-0112-4728-976c-a5417666a785"
      },
      "execution_count": null,
      "outputs": [
        {
          "output_type": "stream",
          "name": "stdout",
          "text": [
            "[1, 2, 4, 8, 16]\n"
          ]
        }
      ]
    },
    {
      "cell_type": "markdown",
      "source": [
        "# Implement a generator function that reads a file line by line and yields each line as a string."
      ],
      "metadata": {
        "id": "k-p3TXAo6CRy"
      }
    },
    {
      "cell_type": "code",
      "source": [
        "def read_file_line_by_line(file_path):\n",
        "    file_path = \"/content/anu Document.txt\"\n",
        "    with open(file_path, 'r') as file:\n",
        "        for line in file:\n",
        "            yield line.strip()  # Remove extra spaces or newline characters\n",
        "\n",
        "for line in read_file_line_by_line(\"file_name\"):\n",
        "    print(line)\n"
      ],
      "metadata": {
        "colab": {
          "base_uri": "https://localhost:8080/"
        },
        "id": "L5OdJCsXxYc-",
        "outputId": "4797e8de-fbc6-47a8-ab29-b43223105f29"
      },
      "execution_count": null,
      "outputs": [
        {
          "output_type": "stream",
          "name": "stdout",
          "text": [
            "my name is anu rawat\n",
            "i am leaning data analyst cource\n"
          ]
        }
      ]
    },
    {
      "cell_type": "markdown",
      "source": [
        "## **Use a lambda function in Python to sort a list of tuples based on the second element of each tuple.**"
      ],
      "metadata": {
        "id": "sMoLobPCAeO4"
      }
    },
    {
      "cell_type": "code",
      "source": [
        "x = [(2,1),(3,1),(1,6),(5,3)]\n",
        "\n",
        "sort = sorted(x , key=lambda x: x[1])\n",
        "\n",
        "print(sort)"
      ],
      "metadata": {
        "colab": {
          "base_uri": "https://localhost:8080/"
        },
        "id": "M_vruLJ6A4zY",
        "outputId": "c5f3771d-653f-481f-f3a7-45b410fa5610"
      },
      "execution_count": null,
      "outputs": [
        {
          "output_type": "stream",
          "name": "stdout",
          "text": [
            "[(2, 1), (3, 1), (5, 3), (1, 6)]\n"
          ]
        }
      ]
    },
    {
      "cell_type": "markdown",
      "source": [
        "# Write a Python program that uses `map()` to convert a list of temperatures from Celsius to Fahrenheit."
      ],
      "metadata": {
        "id": "VQ33aO9dGDLc"
      }
    },
    {
      "cell_type": "code",
      "source": [
        "def celsius_to_fahrenheit(c):\n",
        "    return (c * 9/5) + 32           #celcius to f (f = c*9/5+32)\n",
        "\n",
        "celsius_temps = [0, 20, 36, 54]\n",
        "\n",
        "# Use map to convert to Fahrenheit\n",
        "fahrenheit_temps = list(map(celsius_to_fahrenheit, celsius_temps))\n",
        "\n",
        "print(\"Temperatures in Fahrenheit:\", fahrenheit_temps)\n"
      ],
      "metadata": {
        "colab": {
          "base_uri": "https://localhost:8080/"
        },
        "id": "51RN3ihcBmYt",
        "outputId": "8c3ebc0d-0d02-4431-eec7-e8e5ca0eed0a"
      },
      "execution_count": null,
      "outputs": [
        {
          "output_type": "stream",
          "name": "stdout",
          "text": [
            "Temperatures in Fahrenheit: [32.0, 68.0, 96.8, 129.2]\n"
          ]
        }
      ]
    },
    {
      "cell_type": "markdown",
      "source": [
        "# Create a Python program that uses `filter()` to remove all the vowels from a given string"
      ],
      "metadata": {
        "id": "LOQxGj_HQodQ"
      }
    },
    {
      "cell_type": "code",
      "source": [
        "def remove_vowels(input_string):\n",
        "    vowels = 'aeiouAEIOU'\n",
        "    result = \"\".join(filter(lambda char: char not in vowels, input_string))\n",
        "    return result\n",
        "\n",
        "\n",
        "text = \"Hello, how are you?\"\n",
        "no_vowels = remove_vowels(text)\n",
        "\n",
        "print(\"the original string:\", text)\n",
        "print(\"String without vowels:\", no_vowels)\n"
      ],
      "metadata": {
        "colab": {
          "base_uri": "https://localhost:8080/"
        },
        "id": "yu8TIiXBRFhM",
        "outputId": "a8782e61-4f46-4c3b-e5ed-410e1fa8328a"
      },
      "execution_count": 4,
      "outputs": [
        {
          "output_type": "stream",
          "name": "stdout",
          "text": [
            "the original string: Hello, how are you?\n",
            "String without vowels: Hll, hw r y?\n"
          ]
        }
      ]
    },
    {
      "cell_type": "markdown",
      "source": [
        "Imagine an accounting routine used in a book shop. It works on a list with sublists, which look like this:\n",
        "\n",
        "\n",
        "\n",
        "\n",
        "\n",
        "\n",
        "\n",
        "Write a Python program, which returns a list with 2-tuples. Each tuple consists of the order number and the\n",
        "product of the price per item and the quantity. The product should be increased by 10,- € if the value of the\n",
        "order is smaller than 100,00 €.\n",
        "\n",
        "Write a Python program using lambda and map."
      ],
      "metadata": {
        "id": "OQeXNGTtRg0i"
      }
    },
    {
      "cell_type": "code",
      "source": [
        "orders = [\n",
        "    [34587, \"Learning python,mark lutz\", 4, 40.95],\n",
        "    [98762, \"Programming python,mark lutz\", 5, 56.80],\n",
        "    [77226, \"Head First Python, paul barry \", 3, 32.95],\n",
        "    [88112, \"Einfuhrung in python3, Bernd Klein\", 3, 24.99]\n",
        "]\n",
        "result = list(map(lambda x:(x[0],x[2]*x[3]+ 10) if( x[2]*x[3])<100 else(x[0],x[2]*x[3]),orders))\n",
        "print(result)\n",
        "print(result[:2])"
      ],
      "metadata": {
        "id": "-tsE-cANRP2U",
        "colab": {
          "base_uri": "https://localhost:8080/"
        },
        "outputId": "2013fa30-ca6e-4baf-c437-ebd7cd114666"
      },
      "execution_count": 6,
      "outputs": [
        {
          "output_type": "stream",
          "name": "stdout",
          "text": [
            "[(34587, 163.8), (98762, 284.0), (77226, 108.85000000000001), (88112, 84.97)]\n",
            "[(34587, 163.8), (98762, 284.0)]\n"
          ]
        }
      ]
    },
    {
      "cell_type": "code",
      "source": [],
      "metadata": {
        "id": "pHwDF7nBIy98"
      },
      "execution_count": null,
      "outputs": []
    }
  ]
}